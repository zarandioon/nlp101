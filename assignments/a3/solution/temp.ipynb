{
 "cells": [
  {
   "cell_type": "code",
   "execution_count": 1,
   "metadata": {},
   "outputs": [
    {
     "name": "stdout",
     "output_type": "stream",
     "text": [
      "tensor([[2.7064e-08, 4.5908e-41, 2.7064e-08],\n",
      "        [4.5908e-41, 2.6209e-08, 4.5908e-41]])\n"
     ]
    }
   ],
   "source": [
    "import torch\n",
    "\n",
    "x = torch.Tensor(2, 3)    # Create an un-initialized Tensor of size 2x3\n",
    "print(x)                  # Print out the Tensor\n"
   ]
  },
  {
   "cell_type": "code",
   "execution_count": 4,
   "metadata": {},
   "outputs": [
    {
     "name": "stdout",
     "output_type": "stream",
     "text": [
      "tensor([[0.8294, 0.6554, 0.5502],\n",
      "        [0.5286, 0.8584, 0.7105]])\n"
     ]
    }
   ],
   "source": [
    "x = torch.rand(2, 3)    # Initialize with random values\n",
    "print(x)"
   ]
  },
  {
   "cell_type": "code",
   "execution_count": 5,
   "metadata": {},
   "outputs": [
    {
     "name": "stdout",
     "output_type": "stream",
     "text": [
      "tensor([0.8294, 0.6554, 0.5502, 0.5286, 0.8584, 0.7105])\n"
     ]
    }
   ],
   "source": [
    "y = x.view(6)                    # Resize x to size 6\n",
    "print(y)"
   ]
  },
  {
   "cell_type": "code",
   "execution_count": 6,
   "metadata": {},
   "outputs": [
    {
     "name": "stdout",
     "output_type": "stream",
     "text": [
      "tensor([[0.8294, 0.6554],\n",
      "        [0.5502, 0.5286],\n",
      "        [0.8584, 0.7105]])\n"
     ]
    }
   ],
   "source": [
    "z = x.view(-1, 2)                # Size 3x2\n",
    "print(z)"
   ]
  },
  {
   "cell_type": "code",
   "execution_count": 23,
   "metadata": {},
   "outputs": [],
   "source": [
    "embedings = [[ 0.0000,  0.0000,  0.0000],\n",
    "         [ 0.1535, -2.0309,  0.9315],\n",
    "         [ 0.2000,  0.0000,  0.0000],\n",
    "         [-0.3655,  0.9897,  0.0635]]"
   ]
  },
  {
   "cell_type": "code",
   "execution_count": 24,
   "metadata": {},
   "outputs": [
    {
     "name": "stdout",
     "output_type": "stream",
     "text": [
      "tensor([[1, 2, 0],\n",
      "        [1, 1, 2],\n",
      "        [0, 2, 1]])\n"
     ]
    }
   ],
   "source": [
    "import numpy as np\n",
    "w = np.array([[1,2,0],[1,1,2],[0,2,1]])\n",
    "w = torch.from_numpy(w)         # Convert a numpy array to a Tensor\n",
    "print(w)"
   ]
  },
  {
   "cell_type": "code",
   "execution_count": 32,
   "metadata": {},
   "outputs": [],
   "source": [
    "t = torch.from_numpy(np.array([embedings[i] for j in w for i in j]))"
   ]
  },
  {
   "cell_type": "code",
   "execution_count": 42,
   "metadata": {},
   "outputs": [
    {
     "data": {
      "text/plain": [
       "tensor([[ 0.1535, -2.0309,  0.9315],\n",
       "        [ 0.2000,  0.0000,  0.0000],\n",
       "        [ 0.0000,  0.0000,  0.0000],\n",
       "        [ 0.1535, -2.0309,  0.9315],\n",
       "        [ 0.1535, -2.0309,  0.9315],\n",
       "        [ 0.2000,  0.0000,  0.0000],\n",
       "        [ 0.0000,  0.0000,  0.0000],\n",
       "        [ 0.2000,  0.0000,  0.0000],\n",
       "        [ 0.1535, -2.0309,  0.9315]], dtype=torch.float64)"
      ]
     },
     "execution_count": 42,
     "metadata": {},
     "output_type": "execute_result"
    }
   ],
   "source": [
    "t"
   ]
  },
  {
   "cell_type": "code",
   "execution_count": 41,
   "metadata": {},
   "outputs": [
    {
     "data": {
      "text/plain": [
       "tensor([[ 0.1535, -2.0309,  0.9315,  0.2000,  0.0000,  0.0000,  0.0000,  0.0000,\n",
       "          0.0000],\n",
       "        [ 0.1535, -2.0309,  0.9315,  0.1535, -2.0309,  0.9315,  0.2000,  0.0000,\n",
       "          0.0000],\n",
       "        [ 0.0000,  0.0000,  0.0000,  0.2000,  0.0000,  0.0000,  0.1535, -2.0309,\n",
       "          0.9315]], dtype=torch.float64)"
      ]
     },
     "execution_count": 41,
     "metadata": {},
     "output_type": "execute_result"
    }
   ],
   "source": [
    "t.view((w.shape[0],w.shape[1]*len(embedings[0])))"
   ]
  },
  {
   "cell_type": "code",
   "execution_count": 68,
   "metadata": {},
   "outputs": [],
   "source": [
    "import torch.nn as nn\n",
    "\n",
    "embedings = nn.Parameter(torch.tensor(np.array([[ 0.0000,  0.0000,  0.0000],\n",
    "         [ 0.1535, -2.0309,  0.9315],\n",
    "         [ 0.2000,  0.0000,  0.0000],\n",
    "         [-0.3655,  0.9897,  0.0635]])))"
   ]
  },
  {
   "cell_type": "code",
   "execution_count": 73,
   "metadata": {},
   "outputs": [
    {
     "data": {
      "text/plain": [
       "Parameter containing:\n",
       "tensor([[ 0.0000,  0.0000,  0.0000],\n",
       "        [ 0.1535, -2.0309,  0.9315],\n",
       "        [ 0.2000,  0.0000,  0.0000],\n",
       "        [-0.3655,  0.9897,  0.0635]], dtype=torch.float64, requires_grad=True)"
      ]
     },
     "execution_count": 73,
     "metadata": {},
     "output_type": "execute_result"
    }
   ],
   "source": [
    "embedings"
   ]
  },
  {
   "cell_type": "code",
   "execution_count": 69,
   "metadata": {},
   "outputs": [
    {
     "data": {
      "text/plain": [
       "tensor([[1, 2, 0],\n",
       "        [1, 1, 2],\n",
       "        [0, 2, 1]])"
      ]
     },
     "execution_count": 69,
     "metadata": {},
     "output_type": "execute_result"
    }
   ],
   "source": [
    "w"
   ]
  },
  {
   "cell_type": "code",
   "execution_count": 77,
   "metadata": {},
   "outputs": [],
   "source": [
    " a = torch.Tensor(3, 3, 3)"
   ]
  },
  {
   "cell_type": "code",
   "execution_count": 87,
   "metadata": {},
   "outputs": [],
   "source": [
    "a[0][0] = embedings[w[0][0]]"
   ]
  },
  {
   "cell_type": "code",
   "execution_count": 90,
   "metadata": {},
   "outputs": [],
   "source": [
    "for i in range(w.shape[0]):\n",
    "  for j in range(w.shape[1]):\n",
    "    a[i][j] = embedings[w[i][j]]"
   ]
  },
  {
   "cell_type": "code",
   "execution_count": 91,
   "metadata": {},
   "outputs": [
    {
     "data": {
      "text/plain": [
       "tensor([[[ 0.1535, -2.0309,  0.9315],\n",
       "         [ 0.2000,  0.0000,  0.0000],\n",
       "         [ 0.0000,  0.0000,  0.0000]],\n",
       "\n",
       "        [[ 0.1535, -2.0309,  0.9315],\n",
       "         [ 0.1535, -2.0309,  0.9315],\n",
       "         [ 0.2000,  0.0000,  0.0000]],\n",
       "\n",
       "        [[ 0.0000,  0.0000,  0.0000],\n",
       "         [ 0.2000,  0.0000,  0.0000],\n",
       "         [ 0.1535, -2.0309,  0.9315]]], grad_fn=<CopySlices>)"
      ]
     },
     "execution_count": 91,
     "metadata": {},
     "output_type": "execute_result"
    }
   ],
   "source": [
    "a"
   ]
  },
  {
   "cell_type": "code",
   "execution_count": 71,
   "metadata": {},
   "outputs": [],
   "source": [
    "a = [embedings[i] for j in w for i in j]"
   ]
  },
  {
   "cell_type": "code",
   "execution_count": 72,
   "metadata": {},
   "outputs": [
    {
     "data": {
      "text/plain": [
       "[tensor([ 0.1535, -2.0309,  0.9315], dtype=torch.float64,\n",
       "        grad_fn=<SelectBackward>),\n",
       " tensor([0.2000, 0.0000, 0.0000], dtype=torch.float64, grad_fn=<SelectBackward>),\n",
       " tensor([0., 0., 0.], dtype=torch.float64, grad_fn=<SelectBackward>),\n",
       " tensor([ 0.1535, -2.0309,  0.9315], dtype=torch.float64,\n",
       "        grad_fn=<SelectBackward>),\n",
       " tensor([ 0.1535, -2.0309,  0.9315], dtype=torch.float64,\n",
       "        grad_fn=<SelectBackward>),\n",
       " tensor([0.2000, 0.0000, 0.0000], dtype=torch.float64, grad_fn=<SelectBackward>),\n",
       " tensor([0., 0., 0.], dtype=torch.float64, grad_fn=<SelectBackward>),\n",
       " tensor([0.2000, 0.0000, 0.0000], dtype=torch.float64, grad_fn=<SelectBackward>),\n",
       " tensor([ 0.1535, -2.0309,  0.9315], dtype=torch.float64,\n",
       "        grad_fn=<SelectBackward>)]"
      ]
     },
     "execution_count": 72,
     "metadata": {},
     "output_type": "execute_result"
    }
   ],
   "source": [
    "a"
   ]
  },
  {
   "cell_type": "code",
   "execution_count": 65,
   "metadata": {},
   "outputs": [
    {
     "data": {
      "text/plain": [
       "tensor([[ 0.1535, -2.0309,  0.9315],\n",
       "        [ 0.2000,  0.0000,  0.0000],\n",
       "        [ 0.0000,  0.0000,  0.0000],\n",
       "        [ 0.1535, -2.0309,  0.9315],\n",
       "        [ 0.1535, -2.0309,  0.9315],\n",
       "        [ 0.2000,  0.0000,  0.0000],\n",
       "        [ 0.0000,  0.0000,  0.0000],\n",
       "        [ 0.2000,  0.0000,  0.0000],\n",
       "        [ 0.1535, -2.0309,  0.9315]], dtype=torch.float64)"
      ]
     },
     "execution_count": 65,
     "metadata": {},
     "output_type": "execute_result"
    }
   ],
   "source": [
    "torch.tensor(a)"
   ]
  },
  {
   "cell_type": "code",
   "execution_count": null,
   "metadata": {},
   "outputs": [],
   "source": []
  }
 ],
 "metadata": {
  "kernelspec": {
   "display_name": "conda_pytorch_p36",
   "language": "python",
   "name": "conda_pytorch_p36"
  },
  "language_info": {
   "codemirror_mode": {
    "name": "ipython",
    "version": 3
   },
   "file_extension": ".py",
   "mimetype": "text/x-python",
   "name": "python",
   "nbconvert_exporter": "python",
   "pygments_lexer": "ipython3",
   "version": "3.6.5"
  }
 },
 "nbformat": 4,
 "nbformat_minor": 4
}
